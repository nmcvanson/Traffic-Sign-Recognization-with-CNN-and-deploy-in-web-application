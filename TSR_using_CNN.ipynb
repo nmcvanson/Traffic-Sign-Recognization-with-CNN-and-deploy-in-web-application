{
  "nbformat": 4,
  "nbformat_minor": 0,
  "metadata": {
    "colab": {
      "name": "TSR using CNN.ipynb",
      "provenance": [],
      "collapsed_sections": []
    },
    "kernelspec": {
      "name": "python3",
      "display_name": "Python 3"
    },
    "language_info": {
      "name": "python"
    },
    "accelerator": "GPU"
  },
  "cells": [
    {
      "cell_type": "code",
      "execution_count": 13,
      "metadata": {
        "id": "6-GvCl2qKN1i"
      },
      "outputs": [],
      "source": [
        "import os"
      ]
    },
    {
      "cell_type": "code",
      "source": [
        "paths = {\n",
        "    'WORKSPACE_PATH': os.path.join('Traffic_Sign_Recognition', 'workspace'),\n",
        "    'DATASET_PATH': os.path.join('Traffic_Sign_Recognition', 'workspace', 'dataset'),\n",
        "    'MODEL_PATH': os.path.join('Traffic_Sign_Recognition', 'workspace', 'models')\n",
        "}"
      ],
      "metadata": {
        "id": "iIF2kZYmKPi9"
      },
      "execution_count": 14,
      "outputs": []
    },
    {
      "cell_type": "code",
      "source": [
        "for path in paths.values():\n",
        "    if not os.path.exists(path):\n",
        "        if os.name == 'posix':\n",
        "            !mkdir -p {path}\n",
        "        if os.name == 'nt':\n",
        "            !mkdir {path}"
      ],
      "metadata": {
        "id": "eYv7wQRaKQHD"
      },
      "execution_count": 15,
      "outputs": []
    },
    {
      "cell_type": "markdown",
      "source": [
        "Load datasets from Kaggle into Google Colab!\n",
        "- Select dataset from Kaggle: gtsrb-german-traffic-sign\n",
        "- Download API credentials:  file 'kaggle.json'\n",
        "- Upload file 'kaggle.json' to colab\n",
        "\n",
        "---\n",
        "\n"
      ],
      "metadata": {
        "id": "ywl9-ZNQOoic"
      }
    },
    {
      "cell_type": "code",
      "source": [
        "!pip install -q kaggle"
      ],
      "metadata": {
        "id": "tk85uRJKKQJw"
      },
      "execution_count": 16,
      "outputs": []
    },
    {
      "cell_type": "code",
      "source": [
        "! mkdir ~/.kaggle"
      ],
      "metadata": {
        "id": "55Np1OELPqrj",
        "colab": {
          "base_uri": "https://localhost:8080/"
        },
        "outputId": "d38ef92f-6ddf-4210-dbc3-788125c75d77"
      },
      "execution_count": 17,
      "outputs": [
        {
          "output_type": "stream",
          "name": "stdout",
          "text": [
            "mkdir: cannot create directory ‘/root/.kaggle’: File exists\n"
          ]
        }
      ]
    },
    {
      "cell_type": "code",
      "source": [
        "!cp kaggle.json ~/.kaggle/"
      ],
      "metadata": {
        "id": "3mdQOpBPKo4U"
      },
      "execution_count": 18,
      "outputs": []
    },
    {
      "cell_type": "code",
      "source": [
        "!chmod 600 ~/.kaggle/kaggle.json"
      ],
      "metadata": {
        "id": "t1NHxQUoK0IE"
      },
      "execution_count": 19,
      "outputs": []
    },
    {
      "cell_type": "code",
      "source": [
        "!kaggle datasets download -d meowmeowmeowmeowmeow/gtsrb-german-traffic-sign"
      ],
      "metadata": {
        "colab": {
          "base_uri": "https://localhost:8080/"
        },
        "id": "T9cZMcKmKQMU",
        "outputId": "ef192625-bc72-4724-ee4b-d629ec888ea4"
      },
      "execution_count": 20,
      "outputs": [
        {
          "output_type": "stream",
          "name": "stdout",
          "text": [
            "Downloading gtsrb-german-traffic-sign.zip to /content\n",
            "100% 611M/612M [00:15<00:00, 62.3MB/s]\n",
            "100% 612M/612M [00:15<00:00, 41.5MB/s]\n"
          ]
        }
      ]
    },
    {
      "cell_type": "code",
      "source": [
        "from zipfile import ZipFile"
      ],
      "metadata": {
        "id": "WKOGRiMtLAta"
      },
      "execution_count": 21,
      "outputs": []
    },
    {
      "cell_type": "code",
      "source": [
        "with ZipFile('Traffic_Sign_Recognition/workspace/dataset/gtsrb-german-traffic-sign.zip', 'r') as data:\n",
        "  data.extractall('Traffic_Sign_Recognition/workspace/dataset')"
      ],
      "metadata": {
        "id": "-TJYTvHZLHyS"
      },
      "execution_count": 22,
      "outputs": []
    },
    {
      "cell_type": "code",
      "source": [
        "import numpy as np \n",
        "import pandas as pd \n",
        "import matplotlib.pyplot as plt\n",
        "import cv2\n",
        "import tensorflow as tf\n",
        "from PIL import Image\n",
        "import os\n",
        "from sklearn.model_selection import train_test_split\n",
        "from tensorflow.keras.utils import to_categorical\n",
        "from keras.models import Sequential, load_model\n",
        "from keras.layers import Conv2D, MaxPool2D, Dense, Flatten, Dropout"
      ],
      "metadata": {
        "id": "shbkJu-4MT0q"
      },
      "execution_count": 23,
      "outputs": []
    },
    {
      "cell_type": "code",
      "source": [
        "data = []\n",
        "labels = []\n",
        "# We have 43 Classes\n",
        "classes = 43"
      ],
      "metadata": {
        "id": "Q_lGGz4lMT6L"
      },
      "execution_count": 24,
      "outputs": []
    },
    {
      "cell_type": "code",
      "source": [
        "def grayscale(img):\n",
        "    img = cv2.cvtColor(img,cv2.COLOR_BGR2GRAY)\n",
        "    return img\n",
        "def equalize(img):\n",
        "    img =cv2.equalizeHist(img)\n",
        "    return img"
      ],
      "metadata": {
        "id": "BVQqEyd5Xj5T"
      },
      "execution_count": 25,
      "outputs": []
    },
    {
      "cell_type": "code",
      "source": [
        "import cv2\n",
        "for i in range(classes):\n",
        "    path = os.path.join(paths['DATASET_PATH'],'train',str(i))\n",
        "    images = os.listdir(path)\n",
        "    for a in images:\n",
        "        try:\n",
        "            image = Image.open(path + '/'+ a)\n",
        "            image = image.resize((30,30))\n",
        "            #img = grayscale(image)\n",
        "            #img1 = equalize(img)\n",
        "            image = np.array(image)\n",
        "            data.append(image)\n",
        "            labels.append(i)\n",
        "        except Exception as e:\n",
        "            print(e)"
      ],
      "metadata": {
        "id": "JjtiEinPMT99"
      },
      "execution_count": 26,
      "outputs": []
    },
    {
      "cell_type": "code",
      "source": [
        "data = np.array(data)\n",
        "labels = np.array(labels)"
      ],
      "metadata": {
        "id": "C3ZNSqD9MUBZ"
      },
      "execution_count": 27,
      "outputs": []
    },
    {
      "cell_type": "code",
      "source": [
        "os.mkdir('training')\n",
        "np.save('./training/data',data)\n",
        "np.save('./training/target',labels)"
      ],
      "metadata": {
        "id": "2Dj0Z7VJMUES"
      },
      "execution_count": 28,
      "outputs": []
    },
    {
      "cell_type": "code",
      "source": [
        "data=np.load('Traffic_Sign_Recognition/workspace/dataset/training/data.npy')\n",
        "labels = np.load('Traffic_Sign_Recognition/workspace/dataset/training/target.npy')"
      ],
      "metadata": {
        "id": "OtH0IKuyMUJo"
      },
      "execution_count": 29,
      "outputs": []
    },
    {
      "cell_type": "code",
      "source": [
        "print(data.shape, labels.shape)"
      ],
      "metadata": {
        "colab": {
          "base_uri": "https://localhost:8080/"
        },
        "id": "iHRuv13_O3zK",
        "outputId": "c8375ab0-f31e-44ee-88b0-503c26b52670"
      },
      "execution_count": 30,
      "outputs": [
        {
          "output_type": "stream",
          "name": "stdout",
          "text": [
            "(39209, 30, 30, 3) (39209,)\n"
          ]
        }
      ]
    },
    {
      "cell_type": "code",
      "source": [
        "X_train, X_test, y_train, y_test = train_test_split(data, labels, test_size=0.2, random_state=0)"
      ],
      "metadata": {
        "id": "GCDQGFaYPAha"
      },
      "execution_count": 31,
      "outputs": []
    },
    {
      "cell_type": "code",
      "source": [
        "print(X_train.shape, X_test.shape, y_train.shape, y_test.shape)"
      ],
      "metadata": {
        "colab": {
          "base_uri": "https://localhost:8080/"
        },
        "id": "TmqLdbmjPEXq",
        "outputId": "3db2a32c-442c-4696-852d-aa4d450e36cc"
      },
      "execution_count": 32,
      "outputs": [
        {
          "output_type": "stream",
          "name": "stdout",
          "text": [
            "(31367, 30, 30, 3) (7842, 30, 30, 3) (31367,) (7842,)\n"
          ]
        }
      ]
    },
    {
      "cell_type": "code",
      "source": [
        "y_train = to_categorical(y_train, 43)\n",
        "y_test = to_categorical(y_test, 43)"
      ],
      "metadata": {
        "id": "1YKnC3iEPGCS"
      },
      "execution_count": 33,
      "outputs": []
    },
    {
      "cell_type": "code",
      "source": [
        "from keras.layers.normalization.batch_normalization import BatchNormalization\n",
        "model = Sequential()\n",
        "model.add(Conv2D(filters=16, kernel_size=(3,3), activation='relu', input_shape=X_train.shape[1:]))\n",
        "model.add(Conv2D(filters=32, kernel_size=(3,3), activation='relu'))\n",
        "model.add(MaxPool2D(pool_size=(2, 2)))\n",
        "model.add(BatchNormalization(axis = -1))\n",
        "\n",
        "#model.add(Dropout(rate=0.25))\n",
        "model.add(Conv2D(filters=64, kernel_size=(3, 3), activation='relu'))\n",
        "model.add(Conv2D(filters=128, kernel_size=(3, 3), activation='relu'))\n",
        "model.add(MaxPool2D(pool_size=(2, 2)))\n",
        "model.add(BatchNormalization(axis = -1))\n",
        "\n",
        "#model.add(Dropout(rate=0.25))\n",
        "model.add(Flatten())\n",
        "model.add(Dense(512, activation='relu'))\n",
        "model.add(BatchNormalization(axis = -1))\n",
        "model.add(Dropout(rate=0.5))\n",
        "# We have 43 classes that's why we have defined 43 in the dense\n",
        "model.add(Dense(43, activation='softmax'))"
      ],
      "metadata": {
        "id": "A_lzVnDVPI5S"
      },
      "execution_count": 34,
      "outputs": []
    },
    {
      "cell_type": "code",
      "source": [
        "#Compilation of the model\n",
        "model.compile(loss='categorical_crossentropy', optimizer='adam', metrics=['accuracy'])"
      ],
      "metadata": {
        "id": "rS3yakEAPMZq"
      },
      "execution_count": 35,
      "outputs": []
    },
    {
      "cell_type": "code",
      "source": [
        "epochs = 20\n",
        "history = model.fit(X_train, y_train, batch_size=32, epochs=epochs, validation_data=(X_test, y_test))"
      ],
      "metadata": {
        "colab": {
          "base_uri": "https://localhost:8080/"
        },
        "id": "Hy7qc63fPPuK",
        "outputId": "a07434e7-1119-4935-d684-86366bcba128"
      },
      "execution_count": 36,
      "outputs": [
        {
          "output_type": "stream",
          "name": "stdout",
          "text": [
            "Epoch 1/20\n",
            "981/981 [==============================] - 24s 14ms/step - loss: 0.3975 - accuracy: 0.8976 - val_loss: 0.0424 - val_accuracy: 0.9878\n",
            "Epoch 2/20\n",
            "981/981 [==============================] - 11s 12ms/step - loss: 0.0547 - accuracy: 0.9849 - val_loss: 0.0531 - val_accuracy: 0.9855\n",
            "Epoch 3/20\n",
            "981/981 [==============================] - 15s 15ms/step - loss: 0.0274 - accuracy: 0.9921 - val_loss: 0.0271 - val_accuracy: 0.9940\n",
            "Epoch 4/20\n",
            "981/981 [==============================] - 11s 11ms/step - loss: 0.0326 - accuracy: 0.9905 - val_loss: 0.0395 - val_accuracy: 0.9881\n",
            "Epoch 5/20\n",
            "981/981 [==============================] - 11s 11ms/step - loss: 0.0269 - accuracy: 0.9914 - val_loss: 0.0181 - val_accuracy: 0.9946\n",
            "Epoch 6/20\n",
            "981/981 [==============================] - 11s 11ms/step - loss: 0.0225 - accuracy: 0.9931 - val_loss: 0.0203 - val_accuracy: 0.9943\n",
            "Epoch 7/20\n",
            "981/981 [==============================] - 11s 12ms/step - loss: 0.0162 - accuracy: 0.9950 - val_loss: 0.0173 - val_accuracy: 0.9946\n",
            "Epoch 8/20\n",
            "981/981 [==============================] - 11s 11ms/step - loss: 0.0175 - accuracy: 0.9943 - val_loss: 0.0311 - val_accuracy: 0.9918\n",
            "Epoch 9/20\n",
            "981/981 [==============================] - 11s 11ms/step - loss: 0.0169 - accuracy: 0.9947 - val_loss: 0.0198 - val_accuracy: 0.9939\n",
            "Epoch 10/20\n",
            "981/981 [==============================] - 11s 11ms/step - loss: 0.0130 - accuracy: 0.9958 - val_loss: 0.0220 - val_accuracy: 0.9953\n",
            "Epoch 11/20\n",
            "981/981 [==============================] - 12s 12ms/step - loss: 0.0152 - accuracy: 0.9951 - val_loss: 0.0117 - val_accuracy: 0.9968\n",
            "Epoch 12/20\n",
            "981/981 [==============================] - 11s 11ms/step - loss: 0.0131 - accuracy: 0.9961 - val_loss: 0.0097 - val_accuracy: 0.9973\n",
            "Epoch 13/20\n",
            "981/981 [==============================] - 11s 11ms/step - loss: 0.0109 - accuracy: 0.9969 - val_loss: 0.0222 - val_accuracy: 0.9929\n",
            "Epoch 14/20\n",
            "981/981 [==============================] - 11s 11ms/step - loss: 0.0128 - accuracy: 0.9966 - val_loss: 0.0086 - val_accuracy: 0.9980\n",
            "Epoch 15/20\n",
            "981/981 [==============================] - 11s 11ms/step - loss: 0.0102 - accuracy: 0.9972 - val_loss: 0.0820 - val_accuracy: 0.9861\n",
            "Epoch 16/20\n",
            "981/981 [==============================] - 11s 11ms/step - loss: 0.0105 - accuracy: 0.9970 - val_loss: 0.0065 - val_accuracy: 0.9978\n",
            "Epoch 17/20\n",
            "981/981 [==============================] - 11s 11ms/step - loss: 0.0076 - accuracy: 0.9977 - val_loss: 0.0180 - val_accuracy: 0.9957\n",
            "Epoch 18/20\n",
            "981/981 [==============================] - 11s 11ms/step - loss: 0.0175 - accuracy: 0.9952 - val_loss: 0.0109 - val_accuracy: 0.9976\n",
            "Epoch 19/20\n",
            "981/981 [==============================] - 11s 11ms/step - loss: 0.0063 - accuracy: 0.9979 - val_loss: 0.0127 - val_accuracy: 0.9971\n",
            "Epoch 20/20\n",
            "981/981 [==============================] - 11s 11ms/step - loss: 0.0043 - accuracy: 0.9987 - val_loss: 0.0114 - val_accuracy: 0.9969\n"
          ]
        }
      ]
    },
    {
      "cell_type": "code",
      "source": [
        "# accuracy \n",
        "plt.figure(0)\n",
        "plt.plot(history.history['accuracy'], label='training accuracy')\n",
        "plt.plot(history.history['val_accuracy'], label='val accuracy')\n",
        "plt.title('Accuracy')\n",
        "plt.xlabel('epochs')\n",
        "plt.ylabel('accuracy')\n",
        "plt.legend()\n",
        "plt.show()"
      ],
      "metadata": {
        "colab": {
          "base_uri": "https://localhost:8080/",
          "height": 295
        },
        "id": "xrTAI4nhPSKa",
        "outputId": "41c973ba-ff0a-4035-8fa0-f7014782f3ed"
      },
      "execution_count": 37,
      "outputs": [
        {
          "output_type": "display_data",
          "data": {
            "text/plain": [
              "<Figure size 432x288 with 1 Axes>"
            ],
            "image/png": "[encoded data removed]"
          },
          "metadata": {
            "needs_background": "light"
          }
        }
      ]
    },
    {
      "cell_type": "code",
      "source": [
        "# Loss\n",
        "plt.plot(history.history['loss'], label='training loss')\n",
        "plt.plot(history.history['val_loss'], label='val loss')\n",
        "plt.title('Loss')\n",
        "plt.xlabel('epochs')\n",
        "plt.ylabel('loss')\n",
        "plt.legend()\n",
        "plt.show()"
      ],
      "metadata": {
        "colab": {
          "base_uri": "https://localhost:8080/",
          "height": 295
        },
        "id": "B1aqYAj-QVLk",
        "outputId": "2e0ee31a-e89b-4282-ae0c-cca782f6d45b"
      },
      "execution_count": 50,
      "outputs": [
        {
          "output_type": "display_data",
          "data": {
            "text/plain": [
              "<Figure size 432x288 with 1 Axes>"
            ],
            "image/png": "[encoded data removed]"
          },
          "metadata": {
            "needs_background": "light"
          }
        }
      ]
    },
    {
      "cell_type": "code",
      "source": [
        "def testing(testcsv):\n",
        "    y_test = testcsv\n",
        "    label = y_test[\"ClassId\"].values\n",
        "    imgs = y_test[\"Path\"].values\n",
        "    data=[]\n",
        "    for img in imgs:\n",
        "        image = Image.open(img)\n",
        "        image = image.resize((30,30))\n",
        "        data.append(np.array(image))\n",
        "    X_test=np.array(data)\n",
        "    return X_test,label"
      ],
      "metadata": {
        "id": "zTLTZBCgQaOR"
      },
      "execution_count": 39,
      "outputs": []
    },
    {
      "cell_type": "code",
      "source": [
        "path = os.path.join(paths['DATASET_PATH'])\n",
        "y_test = pd.read_csv('Traffic_Sign_Recognition/workspace/dataset/Test.csv')\n",
        "label = y_test[\"ClassId\"].values\n",
        "imgs = y_test[\"Path\"].values\n",
        "data=[]\n",
        "for img in imgs:\n",
        "  image = Image.open(path + '/' + img)\n",
        "  image = image.resize((30,30))\n",
        "  data.append(np.array(image))\n",
        "X_test=np.array(data)"
      ],
      "metadata": {
        "id": "6nb81tWHQjLC"
      },
      "execution_count": 40,
      "outputs": []
    },
    {
      "cell_type": "code",
      "source": [
        "#Y_pred = model.predict_classes(X_test)\n",
        "#Y_pred\n",
        "predict_x=model.predict(X_test) \n",
        "classes_x=np.argmax(predict_x,axis=1)\n",
        "classes_x"
      ],
      "metadata": {
        "colab": {
          "base_uri": "https://localhost:8080/"
        },
        "id": "-ucD8UYUQxFK",
        "outputId": "7b531923-2613-480a-8153-7ff2e9a7e369"
      },
      "execution_count": 41,
      "outputs": [
        {
          "output_type": "execute_result",
          "data": {
            "text/plain": [
              "array([16,  1, 38, ...,  3,  7, 10])"
            ]
          },
          "metadata": {},
          "execution_count": 41
        }
      ]
    },
    {
      "cell_type": "code",
      "source": [
        "from sklearn.metrics import accuracy_score\n",
        "print(accuracy_score(label, classes_x))"
      ],
      "metadata": {
        "colab": {
          "base_uri": "https://localhost:8080/"
        },
        "id": "xkZPzDhbUifE",
        "outputId": "721c478f-ff58-453b-e0d0-2fa5ba359bdb"
      },
      "execution_count": 42,
      "outputs": [
        {
          "output_type": "stream",
          "name": "stdout",
          "text": [
            "0.9789390340459224\n"
          ]
        }
      ]
    },
    {
      "cell_type": "code",
      "source": [
        "#model.save(paths['MODEL_PATH'], 'TSR.h5')"
      ],
      "metadata": {
        "colab": {
          "base_uri": "https://localhost:8080/",
          "height": 165
        },
        "id": "PgGh15zHUvdt",
        "outputId": "5a29f240-99b0-4f24-8edd-37e56aa15d4e"
      },
      "execution_count": 51,
      "outputs": [
        {
          "output_type": "error",
          "ename": "TypeError",
          "evalue": "ignored",
          "traceback": [
            "\u001b[0;31m---------------------------------------------------------------------------\u001b[0m",
            "\u001b[0;31mTypeError\u001b[0m                                 Traceback (most recent call last)",
            "\u001b[0;32m<ipython-input-51-8d5ce33f2124>\u001b[0m in \u001b[0;36m<module>\u001b[0;34m()\u001b[0m\n\u001b[0;32m----> 1\u001b[0;31m \u001b[0mmodel\u001b[0m\u001b[0;34m.\u001b[0m\u001b[0msave\u001b[0m\u001b[0;34m(\u001b[0m\u001b[0mpaths\u001b[0m\u001b[0;34m[\u001b[0m\u001b[0;34m'MODEL_PATH'\u001b[0m\u001b[0;34m]\u001b[0m\u001b[0;34m/\u001b[0m\u001b[0;34m'TSR.h5'\u001b[0m\u001b[0;34m)\u001b[0m\u001b[0;34m\u001b[0m\u001b[0;34m\u001b[0m\u001b[0m\n\u001b[0m",
            "\u001b[0;31mTypeError\u001b[0m: unsupported operand type(s) for /: 'str' and 'str'"
          ]
        }
      ]
    },
    {
      "cell_type": "code",
      "source": [
        "os.mkdir('trained_model')\n",
        "model.save(\"./trained_model/TSR.h5\")"
      ],
      "metadata": {
        "id": "4JrKJUjPVF1U"
      },
      "execution_count": 52,
      "outputs": []
    },
    {
      "cell_type": "code",
      "source": [
        "# Classes of trafic signs\n",
        "classes = { 0:'Speed limit (20km/h)',\n",
        "            1:'Speed limit (30km/h)', \n",
        "            2:'Speed limit (50km/h)', \n",
        "            3:'Speed limit (60km/h)', \n",
        "            4:'Speed limit (70km/h)', \n",
        "            5:'Speed limit (80km/h)', \n",
        "            6:'End of speed limit (80km/h)', \n",
        "            7:'Speed limit (100km/h)', \n",
        "            8:'Speed limit (120km/h)', \n",
        "            9:'No passing', \n",
        "            10:'No passing veh over 3.5 tons', \n",
        "            11:'Right-of-way at intersection', \n",
        "            12:'Priority road', \n",
        "            13:'Yield', \n",
        "            14:'Stop', \n",
        "            15:'No vehicles', \n",
        "            16:'Veh > 3.5 tons prohibited', \n",
        "            17:'No entry', \n",
        "            18:'General caution', \n",
        "            19:'Dangerous curve left', \n",
        "            20:'Dangerous curve right', \n",
        "            21:'Double curve', \n",
        "            22:'Bumpy road', \n",
        "            23:'Slippery road', \n",
        "            24:'Road narrows on the right', \n",
        "            25:'Road work', \n",
        "            26:'Traffic signals', \n",
        "            27:'Pedestrians', \n",
        "            28:'Children crossing', \n",
        "            29:'Bicycles crossing', \n",
        "            30:'Beware of ice/snow',\n",
        "            31:'Wild animals crossing', \n",
        "            32:'End speed + passing limits', \n",
        "            33:'Turn right ahead', \n",
        "            34:'Turn left ahead', \n",
        "            35:'Ahead only', \n",
        "            36:'Go straight or right', \n",
        "            37:'Go straight or left', \n",
        "            38:'Keep right', \n",
        "            39:'Keep left', \n",
        "            40:'Roundabout mandatory', \n",
        "            41:'End of no passing', \n",
        "            42:'End no passing veh > 3.5 tons' }"
      ],
      "metadata": {
        "id": "QeHFzhkeVlIL"
      },
      "execution_count": 45,
      "outputs": []
    },
    {
      "cell_type": "code",
      "source": [
        "from PIL import Image\n",
        "import numpy as np\n",
        "import matplotlib.pyplot as plt\n",
        "def test_on_img(img):\n",
        "    data=[]\n",
        "    image = Image.open(img)\n",
        "    image = image.resize((30,30))\n",
        "    data.append(np.array(image))\n",
        "    X_test=np.array(data)\n",
        "    #Y_pred = model.predict_classes(X_test)\n",
        "    predict_x = model.predict(X_test) \n",
        "    Y_pred = np.argmax(predict_x,axis=1)\n",
        "    return image,Y_pred"
      ],
      "metadata": {
        "id": "aM4O_skLVuma"
      },
      "execution_count": 46,
      "outputs": []
    },
    {
      "cell_type": "code",
      "source": [
        "plot,prediction = test_on_img(r'Traffic_Sign_Recognition/workspace/dataset/Test/00153.png')\n",
        "s = [str(i) for i in prediction] \n",
        "a = int(\"\".join(s)) \n",
        "print(\"Predicted traffic sign is: \", classes[a])\n",
        "plt.imshow(plot)\n",
        "plt.show()"
      ],
      "metadata": {
        "colab": {
          "base_uri": "https://localhost:8080/",
          "height": 283
        },
        "id": "z3nK8Wa4V0tT",
        "outputId": "c9855f1a-dc63-4226-8926-5ec114d986fc"
      },
      "execution_count": 47,
      "outputs": [
        {
          "output_type": "stream",
          "name": "stdout",
          "text": [
            "Predicted traffic sign is:  Road work\n"
          ]
        },
        {
          "output_type": "display_data",
          "data": {
            "text/plain": [
              "<Figure size 432x288 with 1 Axes>"
            ],
            "image/png": "[encoded data removed]"
          },
          "metadata": {
            "needs_background": "light"
          }
        }
      ]
    },
    {
      "cell_type": "code",
      "source": [
        "!tar -czf models.tar.gz {\"trained_model\"}"
      ],
      "metadata": {
        "id": "h2IJniACWDTa"
      },
      "execution_count": 57,
      "outputs": []
    },
    {
      "cell_type": "code",
      "source": [
        "from google.colab import drive\n",
        "drive.mount('/content/drive')"
      ],
      "metadata": {
        "colab": {
          "base_uri": "https://localhost:8080/"
        },
        "id": "VWzr7ZHzXlbI",
        "outputId": "9e4f2d0b-1983-4935-c4f6-fd5d86ca016a"
      },
      "execution_count": 58,
      "outputs": [
        {
          "output_type": "stream",
          "name": "stdout",
          "text": [
            "Drive already mounted at /content/drive; to attempt to forcibly remount, call drive.mount(\"/content/drive\", force_remount=True).\n"
          ]
        }
      ]
    }
  ]
}